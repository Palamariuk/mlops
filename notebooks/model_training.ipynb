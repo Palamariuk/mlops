{
 "metadata": {
  "kernelspec": {
   "language": "python",
   "display_name": "Python 3",
   "name": "python3"
  },
  "language_info": {
   "name": "python",
   "version": "3.10.13",
   "mimetype": "text/x-python",
   "codemirror_mode": {
    "name": "ipython",
    "version": 3
   },
   "pygments_lexer": "ipython3",
   "nbconvert_exporter": "python",
   "file_extension": ".py"
  },
  "kaggle": {
   "accelerator": "none",
   "dataSources": [
    {
     "sourceId": 4243451,
     "sourceType": "datasetVersion",
     "datasetId": 32526
    }
   ],
   "dockerImageVersionId": 30698,
   "isInternetEnabled": true,
   "language": "python",
   "sourceType": "notebook",
   "isGpuEnabled": false
  }
 },
 "nbformat_minor": 4,
 "nbformat": 4,
 "cells": [
  {
   "cell_type": "code",
   "source": "!pip install mlflow databricks-sdk databricks-cli",
   "metadata": {
    "execution": {
     "iopub.status.busy": "2024-06-09T21:57:46.665782Z",
     "iopub.execute_input": "2024-06-09T21:57:46.666171Z",
     "iopub.status.idle": "2024-06-09T21:58:06.909714Z",
     "shell.execute_reply.started": "2024-06-09T21:57:46.666140Z",
     "shell.execute_reply": "2024-06-09T21:58:06.908217Z"
    },
    "collapsed": true,
    "jupyter": {
     "outputs_hidden": true
    },
    "trusted": true
   },
   "execution_count": 1,
   "outputs": [
    {
     "name": "stdout",
     "text": "Collecting mlflow\n  Downloading mlflow-2.13.2-py3-none-any.whl.metadata (29 kB)\nCollecting databricks-sdk\n  Downloading databricks_sdk-0.28.0-py3-none-any.whl.metadata (35 kB)\nCollecting databricks-cli\n  Downloading databricks_cli-0.18.0-py2.py3-none-any.whl.metadata (4.0 kB)\nRequirement already satisfied: Flask<4 in /opt/conda/lib/python3.10/site-packages (from mlflow) (3.0.3)\nRequirement already satisfied: alembic!=1.10.0,<2 in /opt/conda/lib/python3.10/site-packages (from mlflow) (1.13.1)\nCollecting cachetools<6,>=5.0.0 (from mlflow)\n  Downloading cachetools-5.3.3-py3-none-any.whl.metadata (5.3 kB)\nRequirement already satisfied: click<9,>=7.0 in /opt/conda/lib/python3.10/site-packages (from mlflow) (8.1.7)\nRequirement already satisfied: cloudpickle<4 in /opt/conda/lib/python3.10/site-packages (from mlflow) (2.2.1)\nRequirement already satisfied: docker<8,>=4.0.0 in /opt/conda/lib/python3.10/site-packages (from mlflow) (7.0.0)\nRequirement already satisfied: entrypoints<1 in /opt/conda/lib/python3.10/site-packages (from mlflow) (0.4)\nRequirement already satisfied: gitpython<4,>=3.1.9 in /opt/conda/lib/python3.10/site-packages (from mlflow) (3.1.41)\nCollecting graphene<4 (from mlflow)\n  Downloading graphene-3.3-py2.py3-none-any.whl.metadata (7.7 kB)\nRequirement already satisfied: importlib-metadata!=4.7.0,<8,>=3.7.0 in /opt/conda/lib/python3.10/site-packages (from mlflow) (6.11.0)\nRequirement already satisfied: markdown<4,>=3.3 in /opt/conda/lib/python3.10/site-packages (from mlflow) (3.5.2)\nRequirement already satisfied: matplotlib<4 in /opt/conda/lib/python3.10/site-packages (from mlflow) (3.7.5)\nRequirement already satisfied: numpy<2 in /opt/conda/lib/python3.10/site-packages (from mlflow) (1.26.4)\nRequirement already satisfied: opentelemetry-api<3,>=1.0.0 in /opt/conda/lib/python3.10/site-packages (from mlflow) (1.22.0)\nRequirement already satisfied: opentelemetry-sdk<3,>=1.0.0 in /opt/conda/lib/python3.10/site-packages (from mlflow) (1.22.0)\nRequirement already satisfied: packaging<25 in /opt/conda/lib/python3.10/site-packages (from mlflow) (21.3)\nRequirement already satisfied: pandas<3 in /opt/conda/lib/python3.10/site-packages (from mlflow) (2.2.2)\nRequirement already satisfied: protobuf<5,>=3.12.0 in /opt/conda/lib/python3.10/site-packages (from mlflow) (3.20.3)\nRequirement already satisfied: pyarrow<16,>=4.0.0 in /opt/conda/lib/python3.10/site-packages (from mlflow) (15.0.2)\nRequirement already satisfied: pytz<2025 in /opt/conda/lib/python3.10/site-packages (from mlflow) (2023.3.post1)\nRequirement already satisfied: pyyaml<7,>=5.1 in /opt/conda/lib/python3.10/site-packages (from mlflow) (6.0.1)\nCollecting querystring-parser<2 (from mlflow)\n  Downloading querystring_parser-1.2.4-py2.py3-none-any.whl.metadata (559 bytes)\nRequirement already satisfied: requests<3,>=2.17.3 in /opt/conda/lib/python3.10/site-packages (from mlflow) (2.31.0)\nRequirement already satisfied: scikit-learn<2 in /opt/conda/lib/python3.10/site-packages (from mlflow) (1.2.2)\nRequirement already satisfied: scipy<2 in /opt/conda/lib/python3.10/site-packages (from mlflow) (1.11.4)\nRequirement already satisfied: sqlalchemy<3,>=1.4.0 in /opt/conda/lib/python3.10/site-packages (from mlflow) (2.0.25)\nRequirement already satisfied: sqlparse<1,>=0.4.0 in /opt/conda/lib/python3.10/site-packages (from mlflow) (0.4.4)\nRequirement already satisfied: Jinja2<4,>=2.11 in /opt/conda/lib/python3.10/site-packages (from mlflow) (3.1.2)\nCollecting gunicorn<23 (from mlflow)\n  Downloading gunicorn-22.0.0-py3-none-any.whl.metadata (4.4 kB)\nRequirement already satisfied: google-auth~=2.0 in /opt/conda/lib/python3.10/site-packages (from databricks-sdk) (2.26.1)\nRequirement already satisfied: pyjwt>=1.7.0 in /opt/conda/lib/python3.10/site-packages (from databricks-cli) (2.8.0)\nRequirement already satisfied: oauthlib>=3.1.0 in /opt/conda/lib/python3.10/site-packages (from databricks-cli) (3.2.2)\nRequirement already satisfied: tabulate>=0.7.7 in /opt/conda/lib/python3.10/site-packages (from databricks-cli) (0.9.0)\nRequirement already satisfied: six>=1.10.0 in /opt/conda/lib/python3.10/site-packages (from databricks-cli) (1.16.0)\nRequirement already satisfied: urllib3<3,>=1.26.7 in /opt/conda/lib/python3.10/site-packages (from databricks-cli) (1.26.18)\nRequirement already satisfied: Mako in /opt/conda/lib/python3.10/site-packages (from alembic!=1.10.0,<2->mlflow) (1.3.3)\nRequirement already satisfied: typing-extensions>=4 in /opt/conda/lib/python3.10/site-packages (from alembic!=1.10.0,<2->mlflow) (4.9.0)\nRequirement already satisfied: Werkzeug>=3.0.0 in /opt/conda/lib/python3.10/site-packages (from Flask<4->mlflow) (3.0.2)\nRequirement already satisfied: itsdangerous>=2.1.2 in /opt/conda/lib/python3.10/site-packages (from Flask<4->mlflow) (2.2.0)\nRequirement already satisfied: blinker>=1.6.2 in /opt/conda/lib/python3.10/site-packages (from Flask<4->mlflow) (1.7.0)\nRequirement already satisfied: gitdb<5,>=4.0.1 in /opt/conda/lib/python3.10/site-packages (from gitpython<4,>=3.1.9->mlflow) (4.0.11)\nRequirement already satisfied: pyasn1-modules>=0.2.1 in /opt/conda/lib/python3.10/site-packages (from google-auth~=2.0->databricks-sdk) (0.3.0)\nRequirement already satisfied: rsa<5,>=3.1.4 in /opt/conda/lib/python3.10/site-packages (from google-auth~=2.0->databricks-sdk) (4.9)\nCollecting graphql-core<3.3,>=3.1 (from graphene<4->mlflow)\n  Downloading graphql_core-3.2.3-py3-none-any.whl.metadata (10 kB)\nCollecting graphql-relay<3.3,>=3.1 (from graphene<4->mlflow)\n  Downloading graphql_relay-3.2.0-py3-none-any.whl.metadata (12 kB)\nCollecting aniso8601<10,>=8 (from graphene<4->mlflow)\n  Downloading aniso8601-9.0.1-py2.py3-none-any.whl.metadata (23 kB)\nRequirement already satisfied: zipp>=0.5 in /opt/conda/lib/python3.10/site-packages (from importlib-metadata!=4.7.0,<8,>=3.7.0->mlflow) (3.17.0)\nRequirement already satisfied: MarkupSafe>=2.0 in /opt/conda/lib/python3.10/site-packages (from Jinja2<4,>=2.11->mlflow) (2.1.3)\nRequirement already satisfied: contourpy>=1.0.1 in /opt/conda/lib/python3.10/site-packages (from matplotlib<4->mlflow) (1.2.0)\nRequirement already satisfied: cycler>=0.10 in /opt/conda/lib/python3.10/site-packages (from matplotlib<4->mlflow) (0.12.1)\nRequirement already satisfied: fonttools>=4.22.0 in /opt/conda/lib/python3.10/site-packages (from matplotlib<4->mlflow) (4.47.0)\nRequirement already satisfied: kiwisolver>=1.0.1 in /opt/conda/lib/python3.10/site-packages (from matplotlib<4->mlflow) (1.4.5)\nRequirement already satisfied: pillow>=6.2.0 in /opt/conda/lib/python3.10/site-packages (from matplotlib<4->mlflow) (9.5.0)\nRequirement already satisfied: pyparsing>=2.3.1 in /opt/conda/lib/python3.10/site-packages (from matplotlib<4->mlflow) (3.1.1)\nRequirement already satisfied: python-dateutil>=2.7 in /opt/conda/lib/python3.10/site-packages (from matplotlib<4->mlflow) (2.9.0.post0)\nRequirement already satisfied: deprecated>=1.2.6 in /opt/conda/lib/python3.10/site-packages (from opentelemetry-api<3,>=1.0.0->mlflow) (1.2.14)\nRequirement already satisfied: opentelemetry-semantic-conventions==0.43b0 in /opt/conda/lib/python3.10/site-packages (from opentelemetry-sdk<3,>=1.0.0->mlflow) (0.43b0)\nRequirement already satisfied: tzdata>=2022.7 in /opt/conda/lib/python3.10/site-packages (from pandas<3->mlflow) (2023.4)\nRequirement already satisfied: charset-normalizer<4,>=2 in /opt/conda/lib/python3.10/site-packages (from requests<3,>=2.17.3->mlflow) (3.3.2)\nRequirement already satisfied: idna<4,>=2.5 in /opt/conda/lib/python3.10/site-packages (from requests<3,>=2.17.3->mlflow) (3.6)\nRequirement already satisfied: certifi>=2017.4.17 in /opt/conda/lib/python3.10/site-packages (from requests<3,>=2.17.3->mlflow) (2024.2.2)\nRequirement already satisfied: joblib>=1.1.1 in /opt/conda/lib/python3.10/site-packages (from scikit-learn<2->mlflow) (1.4.0)\nRequirement already satisfied: threadpoolctl>=2.0.0 in /opt/conda/lib/python3.10/site-packages (from scikit-learn<2->mlflow) (3.2.0)\nRequirement already satisfied: greenlet!=0.4.17 in /opt/conda/lib/python3.10/site-packages (from sqlalchemy<3,>=1.4.0->mlflow) (3.0.3)\nRequirement already satisfied: wrapt<2,>=1.10 in /opt/conda/lib/python3.10/site-packages (from deprecated>=1.2.6->opentelemetry-api<3,>=1.0.0->mlflow) (1.14.1)\nRequirement already satisfied: smmap<6,>=3.0.1 in /opt/conda/lib/python3.10/site-packages (from gitdb<5,>=4.0.1->gitpython<4,>=3.1.9->mlflow) (5.0.1)\nRequirement already satisfied: pyasn1<0.6.0,>=0.4.6 in /opt/conda/lib/python3.10/site-packages (from pyasn1-modules>=0.2.1->google-auth~=2.0->databricks-sdk) (0.5.1)\nDownloading mlflow-2.13.2-py3-none-any.whl (25.0 MB)\n\u001B[2K   \u001B[90m━━━━━━━━━━━━━━━━━━━━━━━━━━━━━━━━━━━━━━━━\u001B[0m \u001B[32m25.0/25.0 MB\u001B[0m \u001B[31m53.3 MB/s\u001B[0m eta \u001B[36m0:00:00\u001B[0m:00:01\u001B[0m00:01\u001B[0m\n\u001B[?25hDownloading databricks_sdk-0.28.0-py3-none-any.whl (497 kB)\n\u001B[2K   \u001B[90m━━━━━━━━━━━━━━━━━━━━━━━━━━━━━━━━━━━━━━━━\u001B[0m \u001B[32m497.1/497.1 kB\u001B[0m \u001B[31m26.6 MB/s\u001B[0m eta \u001B[36m0:00:00\u001B[0m\n\u001B[?25hDownloading databricks_cli-0.18.0-py2.py3-none-any.whl (150 kB)\n\u001B[2K   \u001B[90m━━━━━━━━━━━━━━━━━━━━━━━━━━━━━━━━━━━━━━━━\u001B[0m \u001B[32m150.3/150.3 kB\u001B[0m \u001B[31m8.1 MB/s\u001B[0m eta \u001B[36m0:00:00\u001B[0m\n\u001B[?25hDownloading cachetools-5.3.3-py3-none-any.whl (9.3 kB)\nDownloading graphene-3.3-py2.py3-none-any.whl (128 kB)\n\u001B[2K   \u001B[90m━━━━━━━━━━━━━━━━━━━━━━━━━━━━━━━━━━━━━━━━\u001B[0m \u001B[32m128.2/128.2 kB\u001B[0m \u001B[31m7.8 MB/s\u001B[0m eta \u001B[36m0:00:00\u001B[0m\n\u001B[?25hDownloading gunicorn-22.0.0-py3-none-any.whl (84 kB)\n\u001B[2K   \u001B[90m━━━━━━━━━━━━━━━━━━━━━━━━━━━━━━━━━━━━━━━━\u001B[0m \u001B[32m84.4/84.4 kB\u001B[0m \u001B[31m4.8 MB/s\u001B[0m eta \u001B[36m0:00:00\u001B[0m\n\u001B[?25hDownloading querystring_parser-1.2.4-py2.py3-none-any.whl (7.9 kB)\nDownloading aniso8601-9.0.1-py2.py3-none-any.whl (52 kB)\n\u001B[2K   \u001B[90m━━━━━━━━━━━━━━━━━━━━━━━━━━━━━━━━━━━━━━━━\u001B[0m \u001B[32m52.8/52.8 kB\u001B[0m \u001B[31m2.8 MB/s\u001B[0m eta \u001B[36m0:00:00\u001B[0m\n\u001B[?25hDownloading graphql_core-3.2.3-py3-none-any.whl (202 kB)\n\u001B[2K   \u001B[90m━━━━━━━━━━━━━━━━━━━━━━━━━━━━━━━━━━━━━━━━\u001B[0m \u001B[32m202.9/202.9 kB\u001B[0m \u001B[31m11.3 MB/s\u001B[0m eta \u001B[36m0:00:00\u001B[0m\n\u001B[?25hDownloading graphql_relay-3.2.0-py3-none-any.whl (16 kB)\nInstalling collected packages: aniso8601, querystring-parser, graphql-core, cachetools, gunicorn, graphql-relay, databricks-cli, graphene, databricks-sdk, mlflow\n  Attempting uninstall: cachetools\n    Found existing installation: cachetools 4.2.4\n    Uninstalling cachetools-4.2.4:\n      Successfully uninstalled cachetools-4.2.4\n\u001B[31mERROR: pip's dependency resolver does not currently take into account all the packages that are installed. This behaviour is the source of the following dependency conflicts.\ntensorflow-decision-forests 1.8.1 requires wurlitzer, which is not installed.\nkfp 2.5.0 requires google-cloud-storage<3,>=2.2.1, but you have google-cloud-storage 1.44.0 which is incompatible.\ntensorflow 2.15.0 requires keras<2.16,>=2.15.0, but you have keras 3.2.1 which is incompatible.\u001B[0m\u001B[31m\n\u001B[0mSuccessfully installed aniso8601-9.0.1 cachetools-5.3.2 databricks-cli-0.18.0 databricks-sdk-0.28.0 graphene-3.3 graphql-core-3.2.3 graphql-relay-3.2.0 gunicorn-22.0.0 mlflow-2.13.2 querystring-parser-1.2.4\n",
     "output_type": "stream"
    }
   ]
  },
  {
   "cell_type": "code",
   "source": "import numpy as np\nimport pandas as pd\nimport os\nimport mlflow\nimport boto3",
   "metadata": {
    "_uuid": "8f2839f25d086af736a60e9eeb907d3b93b6e0e5",
    "_cell_guid": "b1076dfc-b9ad-4769-8c92-a6c4dae69d19",
    "execution": {
     "iopub.status.busy": "2024-06-09T21:58:20.579153Z",
     "iopub.execute_input": "2024-06-09T21:58:20.580113Z",
     "iopub.status.idle": "2024-06-09T21:58:23.023487Z",
     "shell.execute_reply.started": "2024-06-09T21:58:20.580069Z",
     "shell.execute_reply": "2024-06-09T21:58:23.022157Z"
    },
    "trusted": true
   },
   "execution_count": 4,
   "outputs": []
  },
  {
   "cell_type": "code",
   "source": "os.environ['MLFLOW_S3_ENDPOINT_URL'] = 'https://s3.eu-central-1.amazonaws.com'",
   "metadata": {
    "execution": {
     "iopub.status.busy": "2024-06-09T22:01:23.985066Z",
     "iopub.execute_input": "2024-06-09T22:01:23.985588Z",
     "iopub.status.idle": "2024-06-09T22:01:23.992020Z",
     "shell.execute_reply.started": "2024-06-09T22:01:23.985544Z",
     "shell.execute_reply": "2024-06-09T22:01:23.990653Z"
    },
    "trusted": true
   },
   "execution_count": 13,
   "outputs": []
  },
  {
   "cell_type": "code",
   "source": "s3 = boto3.client('s3')\ns3.download_file('mlops-news-trends', 'data/train.json', 'train.json')",
   "metadata": {
    "execution": {
     "iopub.status.busy": "2024-06-09T21:58:23.986672Z",
     "iopub.execute_input": "2024-06-09T21:58:23.987302Z",
     "iopub.status.idle": "2024-06-09T21:58:25.086639Z",
     "shell.execute_reply.started": "2024-06-09T21:58:23.987265Z",
     "shell.execute_reply": "2024-06-09T21:58:25.085529Z"
    },
    "trusted": true
   },
   "execution_count": 5,
   "outputs": []
  },
  {
   "cell_type": "code",
   "source": "mlflow.set_tracking_uri('databricks')\nmlflow.set_experiment(\"/Users/palamariuk.pn@ucu.edu.ua/experiment\")",
   "metadata": {
    "execution": {
     "iopub.status.busy": "2024-06-09T21:58:26.864031Z",
     "iopub.execute_input": "2024-06-09T21:58:26.864500Z",
     "iopub.status.idle": "2024-06-09T21:58:27.654595Z",
     "shell.execute_reply.started": "2024-06-09T21:58:26.864462Z",
     "shell.execute_reply": "2024-06-09T21:58:27.653510Z"
    },
    "trusted": true
   },
   "execution_count": 6,
   "outputs": [
    {
     "execution_count": 6,
     "output_type": "execute_result",
     "data": {
      "text/plain": "<Experiment: artifact_location='dbfs:/databricks/mlflow-tracking/3206751157090435', creation_time=1717879026587, experiment_id='3206751157090435', last_update_time=1717882069583, lifecycle_stage='active', name='/Users/palamariuk.pn@ucu.edu.ua/experiment', tags={'mlflow.experiment.sourceName': '/Users/palamariuk.pn@ucu.edu.ua/experiment',\n 'mlflow.experimentType': 'MLFLOW_EXPERIMENT',\n 'mlflow.ownerEmail': 'palamariuk.pn@ucu.edu.ua',\n 'mlflow.ownerId': '7973479790873778'}>"
     },
     "metadata": {}
    }
   ]
  },
  {
   "cell_type": "code",
   "source": "df = pd.read_json('/kaggle/working/train.json', lines=True)\ndf.dropna(inplace=True)",
   "metadata": {
    "execution": {
     "iopub.status.busy": "2024-06-09T21:58:32.154521Z",
     "iopub.execute_input": "2024-06-09T21:58:32.155039Z",
     "iopub.status.idle": "2024-06-09T21:58:33.692004Z",
     "shell.execute_reply.started": "2024-06-09T21:58:32.154998Z",
     "shell.execute_reply": "2024-06-09T21:58:33.690748Z"
    },
    "trusted": true
   },
   "execution_count": 7,
   "outputs": []
  },
  {
   "cell_type": "code",
   "source": "from sklearn.model_selection import train_test_split\nfrom sklearn.feature_extraction.text import TfidfVectorizer\nfrom sklearn.linear_model import LogisticRegression\nfrom sklearn.metrics import classification_report, accuracy_score\n",
   "metadata": {
    "execution": {
     "iopub.status.busy": "2024-06-09T21:58:40.097070Z",
     "iopub.execute_input": "2024-06-09T21:58:40.097628Z",
     "iopub.status.idle": "2024-06-09T21:58:40.104252Z",
     "shell.execute_reply.started": "2024-06-09T21:58:40.097583Z",
     "shell.execute_reply": "2024-06-09T21:58:40.103091Z"
    },
    "trusted": true
   },
   "execution_count": 9,
   "outputs": []
  },
  {
   "cell_type": "code",
   "source": "X = df['short_description']\ny = df['category']\n\nvectorizer = TfidfVectorizer(stop_words='english')\nX_vect = vectorizer.fit_transform(X)\n\nX_train, X_test, y_train, y_test = train_test_split(X_vect, y, test_size=0.2, random_state=42)",
   "metadata": {
    "execution": {
     "iopub.status.busy": "2024-06-09T21:58:41.194571Z",
     "iopub.execute_input": "2024-06-09T21:58:41.195067Z",
     "iopub.status.idle": "2024-06-09T21:58:44.935364Z",
     "shell.execute_reply.started": "2024-06-09T21:58:41.195029Z",
     "shell.execute_reply": "2024-06-09T21:58:44.934021Z"
    },
    "trusted": true
   },
   "execution_count": 10,
   "outputs": []
  },
  {
   "cell_type": "code",
   "source": "model = LogisticRegression()",
   "metadata": {
    "execution": {
     "iopub.status.busy": "2024-06-09T21:58:45.524127Z",
     "iopub.execute_input": "2024-06-09T21:58:45.524954Z",
     "iopub.status.idle": "2024-06-09T21:58:45.530947Z",
     "shell.execute_reply.started": "2024-06-09T21:58:45.524913Z",
     "shell.execute_reply": "2024-06-09T21:58:45.529614Z"
    },
    "trusted": true
   },
   "execution_count": 11,
   "outputs": []
  },
  {
   "cell_type": "code",
   "source": [
    "expr_name = \"/Users/palamariuk.pn@ucu.edu.ua/experiment_2\"\n",
    "s3_bucket = \"s3://mlops-news-trends/artifacts\"\n",
    "\n",
    "mlflow.create_experiment(expr_name, s3_bucket)\n",
    "mlflow.set_experiment(expr_name)\n",
    "\n",
    "with mlflow.start_run(run_name=f'Run {type(model).__name__} - 2'):\n",
    "    mlflow.set_tag(\"model\", type(model).__name__)\n",
    "    mlflow.set_tag(\"owner\", \"maksym palamariuk\")\n",
    "    mlflow.set_tag(\"description\", \"The second run of the model (accuracy is corrected)\")\n",
    "\n",
    "    model.fit(X_train, y_train)\n",
    "\n",
    "    y_pred = model.predict(X_test)\n",
    "    accuracy = round(accuracy_score(y_test, y_pred), 4)\n",
    "    \n",
    "    print(classification_report(y_test, y_pred))\n",
    "\n",
    "    mlflow.log_metric(\"accuracy\", accuracy)\n",
    "    mlflow.sklearn.log_model(model, \"model\")"
   ],
   "metadata": {
    "execution": {
     "iopub.status.busy": "2024-06-09T22:13:52.627516Z",
     "iopub.execute_input": "2024-06-09T22:13:52.627983Z",
     "iopub.status.idle": "2024-06-09T22:15:38.894196Z",
     "shell.execute_reply.started": "2024-06-09T22:13:52.627948Z",
     "shell.execute_reply": "2024-06-09T22:15:38.892960Z"
    },
    "trusted": true
   },
   "execution_count": 19,
   "outputs": [
    {
     "name": "stderr",
     "text": "/opt/conda/lib/python3.10/site-packages/sklearn/linear_model/_logistic.py:458: ConvergenceWarning: lbfgs failed to converge (status=1):\nSTOP: TOTAL NO. of ITERATIONS REACHED LIMIT.\n\nIncrease the number of iterations (max_iter) or scale the data as shown in:\n    https://scikit-learn.org/stable/modules/preprocessing.html\nPlease also refer to the documentation for alternative solver options:\n    https://scikit-learn.org/stable/modules/linear_model.html#logistic-regression\n  n_iter_i = _check_optimize_result(\n",
     "output_type": "stream"
    },
    {
     "name": "stdout",
     "text": "                precision    recall  f1-score   support\n\n          ARTS       0.38      0.02      0.04       246\nARTS & CULTURE       0.29      0.01      0.02       224\n  BLACK VOICES       0.44      0.15      0.22       711\n      BUSINESS       0.40      0.24      0.30       982\n       COLLEGE       0.30      0.05      0.08       184\n        COMEDY       0.33      0.09      0.14       844\n         CRIME       0.41      0.20      0.27       547\nCULTURE & ARTS       0.32      0.08      0.12       155\n       DIVORCE       0.79      0.51      0.62       556\n     EDUCATION       0.31      0.10      0.15       166\n ENTERTAINMENT       0.35      0.49      0.41      2805\n   ENVIRONMENT       0.63      0.11      0.19       237\n         FIFTY       0.14      0.00      0.01       209\n  FOOD & DRINK       0.51      0.57      0.54       959\n     GOOD NEWS       0.00      0.00      0.00       213\n         GREEN       0.35      0.08      0.13       421\nHEALTHY LIVING       0.26      0.04      0.07      1115\n HOME & LIVING       0.57      0.39      0.46       689\n        IMPACT       0.42      0.09      0.15       604\n LATINO VOICES       0.89      0.05      0.09       176\n         MEDIA       0.46      0.09      0.16       453\n         MONEY       0.48      0.16      0.24       285\n     PARENTING       0.46      0.53      0.50      1432\n       PARENTS       0.33      0.03      0.06       607\n      POLITICS       0.37      0.86      0.52      5718\n  QUEER VOICES       0.62      0.27      0.38      1005\n      RELIGION       0.50      0.13      0.20       422\n       SCIENCE       0.53      0.11      0.18       378\n        SPORTS       0.59      0.30      0.39       783\n         STYLE       0.12      0.00      0.01       361\nSTYLE & BEAUTY       0.63      0.66      0.65      1642\n         TASTE       0.50      0.02      0.03       369\n          TECH       0.58      0.19      0.29       342\n THE WORLDPOST       0.52      0.20      0.29       620\n        TRAVEL       0.55      0.61      0.58      1575\n     U.S. NEWS       0.00      0.00      0.00       247\n      WEDDINGS       0.77      0.53      0.63       549\n    WEIRD NEWS       0.43      0.02      0.04       449\n      WELLNESS       0.44      0.77      0.56      2820\n         WOMEN       0.32      0.10      0.16       562\n    WORLD NEWS       0.38      0.12      0.19       481\n     WORLDPOST       0.41      0.03      0.06       382\n\n      accuracy                           0.43     33525\n     macro avg       0.43      0.21      0.24     33525\n  weighted avg       0.44      0.43      0.37     33525\n\n",
     "output_type": "stream"
    },
    {
     "name": "stderr",
     "text": "/opt/conda/lib/python3.10/site-packages/_distutils_hack/__init__.py:18: UserWarning: Distutils was imported before Setuptools, but importing Setuptools also replaces the `distutils` module in `sys.modules`. This may lead to undesirable behaviors or errors. To avoid these issues, avoid using distutils directly, ensure that setuptools is installed in the traditional way (e.g. not an editable install), and/or make sure that setuptools is always imported before distutils.\n  warnings.warn(\n/opt/conda/lib/python3.10/site-packages/_distutils_hack/__init__.py:33: UserWarning: Setuptools is replacing distutils.\n  warnings.warn(\"Setuptools is replacing distutils.\")\n2024/06/09 22:15:37 WARNING mlflow.models.model: Model logged without a signature. Signatures will be required for upcoming model registry features as they validate model inputs and denote the expected schema of model outputs. Please visit https://www.mlflow.org/docs/2.13.2/models.html#set-signature-on-logged-model for instructions on setting a model signature on your logged model.\n",
     "output_type": "stream"
    }
   ]
  },
  {
   "cell_type": "code",
   "source": "import joblib\n\njoblib.dump(model, 'model.pkl')\njoblib.dump(vectorizer, 'vectorizer.pkl')",
   "metadata": {
    "execution": {
     "iopub.status.busy": "2024-05-26T14:30:11.184115Z",
     "iopub.execute_input": "2024-05-26T14:30:11.184472Z",
     "iopub.status.idle": "2024-05-26T14:30:11.745425Z",
     "shell.execute_reply.started": "2024-05-26T14:30:11.184445Z",
     "shell.execute_reply": "2024-05-26T14:30:11.744117Z"
    },
    "trusted": true
   },
   "execution_count": 43,
   "outputs": [
    {
     "execution_count": 43,
     "output_type": "execute_result",
     "data": {
      "text/plain": "['vectorizer.pkl']"
     },
     "metadata": {}
    }
   ]
  }
 ]
}
